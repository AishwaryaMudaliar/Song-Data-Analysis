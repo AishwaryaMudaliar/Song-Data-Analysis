{
  "nbformat": 4,
  "nbformat_minor": 0,
  "metadata": {
    "colab": {
      "name": "song data analysis.ipynb",
      "provenance": []
    },
    "kernelspec": {
      "name": "python3",
      "display_name": "Python 3"
    },
    "language_info": {
      "name": "python"
    }
  },
  "cells": [
    {
      "cell_type": "markdown",
      "source": [
        "#SONG DATA ANALYSIS"
      ],
      "metadata": {
        "id": "-oYXNbjGkumy"
      }
    },
    {
      "cell_type": "code",
      "execution_count": 34,
      "metadata": {
        "colab": {
          "base_uri": "https://localhost:8080/"
        },
        "id": "ONNwdNyIXeJL",
        "outputId": "4f117965-10a0-44bb-a1c9-9a5e36c9bd77"
      },
      "outputs": [
        {
          "output_type": "stream",
          "name": "stdout",
          "text": [
            "fatal: destination path 'Gaana-Data-Analysis' already exists and is not an empty directory.\n"
          ]
        }
      ],
      "source": [
        "!git clone https://github.com/AshishJangra27/Gaana-Data-Analysis"
      ]
    },
    {
      "cell_type": "markdown",
      "source": [
        "##Preparing the dataset"
      ],
      "metadata": {
        "id": "sSpzh5rAk0i_"
      }
    },
    {
      "cell_type": "code",
      "source": [
        "import pandas as pd"
      ],
      "metadata": {
        "id": "VJ-QjcCQX2n3"
      },
      "execution_count": 35,
      "outputs": []
    },
    {
      "cell_type": "code",
      "source": [
        "df=pd.read_csv('/content/Gaana-Data-Analysis/songs.csv')"
      ],
      "metadata": {
        "id": "kffukALeX8eR"
      },
      "execution_count": 36,
      "outputs": []
    },
    {
      "cell_type": "code",
      "source": [
        "df"
      ],
      "metadata": {
        "colab": {
          "base_uri": "https://localhost:8080/",
          "height": 755
        },
        "id": "PEORGpLBYEG5",
        "outputId": "41338cdc-f99d-4cb8-be3d-11e5d6e7a8fb"
      },
      "execution_count": 37,
      "outputs": [
        {
          "output_type": "execute_result",
          "data": {
            "text/plain": [
              "                                                    name  \\\n",
              "0                                  Dil - E - Nadan Tujhe   \n",
              "1                      Agar Hum Kahen Aur Woh Muskara De   \n",
              "2                                          Unke Dekhe Se   \n",
              "3                Yeh Na Thi Hamari Qismat - Chitra Singh   \n",
              "4                                Hazaron Khwahishen Aisi   \n",
              "...                                                  ...   \n",
              "41350  Chaaridike Paaper Andhar (Manush Janam Diye Bi...   \n",
              "41351                                Ei Ki Go Shesh Daan   \n",
              "41352                                       Ei Je Bangla   \n",
              "41353                               Jatone Hridaye Rekho   \n",
              "41354                            Tomar Je Oi Haater Mala   \n",
              "\n",
              "                               singer  \\\n",
              "0           Chitra Singh|Jagjit Singh   \n",
              "1           Chitra Singh|Jagjit Singh   \n",
              "2                        Jagjit Singh   \n",
              "3                        Chitra Singh   \n",
              "4                        Jagjit Singh   \n",
              "...                               ...   \n",
              "41350                   Kishore Kumar   \n",
              "41351                    Feroza Begum   \n",
              "41352  Sandhya Mukherjee|Hemant Kumar   \n",
              "41353                Ajoy Chakrabarty   \n",
              "41354                     Asha Bhosle   \n",
              "\n",
              "                                               singer_id duration  \\\n",
              "0           /artist/chitra-singh|/artist/jagjeet-singh-1    05:00   \n",
              "1           /artist/chitra-singh|/artist/jagjeet-singh-1    06:26   \n",
              "2                                /artist/jagjeet-singh-1    03:41   \n",
              "3                                   /artist/chitra-singh    04:26   \n",
              "4                                /artist/jagjeet-singh-1    05:39   \n",
              "...                                                  ...      ...   \n",
              "41350                              /artist/kishore-kumar    03:23   \n",
              "41351                               /artist/feroza-begum    03:56   \n",
              "41352  /artist/sandhya-mukherjee|/artist/hemanta-mukh...    07:36   \n",
              "41353                           /artist/ajoy-chakrabarty    04:29   \n",
              "41354                              /artist/asha-bhosle-1    03:22   \n",
              "\n",
              "                                                    link language  \n",
              "0                                   /dil-e-nadan-tujhe-3     Urdu  \n",
              "1                    /agar-hum-kahen-aur-woh-muskura-den     Urdu  \n",
              "2                                         /unke-dekhe-se     Urdu  \n",
              "3                            /yeh-na-thi-hamari-qismat-2     Urdu  \n",
              "4                             /hazaron-khwahishen-aisi-1     Urdu  \n",
              "...                                                  ...      ...  \n",
              "41350  /chaaridike-paaper-andhar-manush-janam-diye-bidhi  Bengali  \n",
              "41351                                 /ei-kigo-sesh-daan  Bengali  \n",
              "41352                                      /ei-je-bangla  Bengali  \n",
              "41353                              /jatone-hridaye-rekho  Bengali  \n",
              "41354                           /tomar-je-oi-haater-mala  Bengali  \n",
              "\n",
              "[41355 rows x 6 columns]"
            ],
            "text/html": [
              "\n",
              "  <div id=\"df-208b5e96-18b4-437f-85b9-312ab2a78d05\">\n",
              "    <div class=\"colab-df-container\">\n",
              "      <div>\n",
              "<style scoped>\n",
              "    .dataframe tbody tr th:only-of-type {\n",
              "        vertical-align: middle;\n",
              "    }\n",
              "\n",
              "    .dataframe tbody tr th {\n",
              "        vertical-align: top;\n",
              "    }\n",
              "\n",
              "    .dataframe thead th {\n",
              "        text-align: right;\n",
              "    }\n",
              "</style>\n",
              "<table border=\"1\" class=\"dataframe\">\n",
              "  <thead>\n",
              "    <tr style=\"text-align: right;\">\n",
              "      <th></th>\n",
              "      <th>name</th>\n",
              "      <th>singer</th>\n",
              "      <th>singer_id</th>\n",
              "      <th>duration</th>\n",
              "      <th>link</th>\n",
              "      <th>language</th>\n",
              "    </tr>\n",
              "  </thead>\n",
              "  <tbody>\n",
              "    <tr>\n",
              "      <th>0</th>\n",
              "      <td>Dil - E - Nadan Tujhe</td>\n",
              "      <td>Chitra Singh|Jagjit Singh</td>\n",
              "      <td>/artist/chitra-singh|/artist/jagjeet-singh-1</td>\n",
              "      <td>05:00</td>\n",
              "      <td>/dil-e-nadan-tujhe-3</td>\n",
              "      <td>Urdu</td>\n",
              "    </tr>\n",
              "    <tr>\n",
              "      <th>1</th>\n",
              "      <td>Agar Hum Kahen Aur Woh Muskara De</td>\n",
              "      <td>Chitra Singh|Jagjit Singh</td>\n",
              "      <td>/artist/chitra-singh|/artist/jagjeet-singh-1</td>\n",
              "      <td>06:26</td>\n",
              "      <td>/agar-hum-kahen-aur-woh-muskura-den</td>\n",
              "      <td>Urdu</td>\n",
              "    </tr>\n",
              "    <tr>\n",
              "      <th>2</th>\n",
              "      <td>Unke Dekhe Se</td>\n",
              "      <td>Jagjit Singh</td>\n",
              "      <td>/artist/jagjeet-singh-1</td>\n",
              "      <td>03:41</td>\n",
              "      <td>/unke-dekhe-se</td>\n",
              "      <td>Urdu</td>\n",
              "    </tr>\n",
              "    <tr>\n",
              "      <th>3</th>\n",
              "      <td>Yeh Na Thi Hamari Qismat - Chitra Singh</td>\n",
              "      <td>Chitra Singh</td>\n",
              "      <td>/artist/chitra-singh</td>\n",
              "      <td>04:26</td>\n",
              "      <td>/yeh-na-thi-hamari-qismat-2</td>\n",
              "      <td>Urdu</td>\n",
              "    </tr>\n",
              "    <tr>\n",
              "      <th>4</th>\n",
              "      <td>Hazaron Khwahishen Aisi</td>\n",
              "      <td>Jagjit Singh</td>\n",
              "      <td>/artist/jagjeet-singh-1</td>\n",
              "      <td>05:39</td>\n",
              "      <td>/hazaron-khwahishen-aisi-1</td>\n",
              "      <td>Urdu</td>\n",
              "    </tr>\n",
              "    <tr>\n",
              "      <th>...</th>\n",
              "      <td>...</td>\n",
              "      <td>...</td>\n",
              "      <td>...</td>\n",
              "      <td>...</td>\n",
              "      <td>...</td>\n",
              "      <td>...</td>\n",
              "    </tr>\n",
              "    <tr>\n",
              "      <th>41350</th>\n",
              "      <td>Chaaridike Paaper Andhar (Manush Janam Diye Bi...</td>\n",
              "      <td>Kishore Kumar</td>\n",
              "      <td>/artist/kishore-kumar</td>\n",
              "      <td>03:23</td>\n",
              "      <td>/chaaridike-paaper-andhar-manush-janam-diye-bidhi</td>\n",
              "      <td>Bengali</td>\n",
              "    </tr>\n",
              "    <tr>\n",
              "      <th>41351</th>\n",
              "      <td>Ei Ki Go Shesh Daan</td>\n",
              "      <td>Feroza Begum</td>\n",
              "      <td>/artist/feroza-begum</td>\n",
              "      <td>03:56</td>\n",
              "      <td>/ei-kigo-sesh-daan</td>\n",
              "      <td>Bengali</td>\n",
              "    </tr>\n",
              "    <tr>\n",
              "      <th>41352</th>\n",
              "      <td>Ei Je Bangla</td>\n",
              "      <td>Sandhya Mukherjee|Hemant Kumar</td>\n",
              "      <td>/artist/sandhya-mukherjee|/artist/hemanta-mukh...</td>\n",
              "      <td>07:36</td>\n",
              "      <td>/ei-je-bangla</td>\n",
              "      <td>Bengali</td>\n",
              "    </tr>\n",
              "    <tr>\n",
              "      <th>41353</th>\n",
              "      <td>Jatone Hridaye Rekho</td>\n",
              "      <td>Ajoy Chakrabarty</td>\n",
              "      <td>/artist/ajoy-chakrabarty</td>\n",
              "      <td>04:29</td>\n",
              "      <td>/jatone-hridaye-rekho</td>\n",
              "      <td>Bengali</td>\n",
              "    </tr>\n",
              "    <tr>\n",
              "      <th>41354</th>\n",
              "      <td>Tomar Je Oi Haater Mala</td>\n",
              "      <td>Asha Bhosle</td>\n",
              "      <td>/artist/asha-bhosle-1</td>\n",
              "      <td>03:22</td>\n",
              "      <td>/tomar-je-oi-haater-mala</td>\n",
              "      <td>Bengali</td>\n",
              "    </tr>\n",
              "  </tbody>\n",
              "</table>\n",
              "<p>41355 rows × 6 columns</p>\n",
              "</div>\n",
              "      <button class=\"colab-df-convert\" onclick=\"convertToInteractive('df-208b5e96-18b4-437f-85b9-312ab2a78d05')\"\n",
              "              title=\"Convert this dataframe to an interactive table.\"\n",
              "              style=\"display:none;\">\n",
              "        \n",
              "  <svg xmlns=\"http://www.w3.org/2000/svg\" height=\"24px\"viewBox=\"0 0 24 24\"\n",
              "       width=\"24px\">\n",
              "    <path d=\"M0 0h24v24H0V0z\" fill=\"none\"/>\n",
              "    <path d=\"M18.56 5.44l.94 2.06.94-2.06 2.06-.94-2.06-.94-.94-2.06-.94 2.06-2.06.94zm-11 1L8.5 8.5l.94-2.06 2.06-.94-2.06-.94L8.5 2.5l-.94 2.06-2.06.94zm10 10l.94 2.06.94-2.06 2.06-.94-2.06-.94-.94-2.06-.94 2.06-2.06.94z\"/><path d=\"M17.41 7.96l-1.37-1.37c-.4-.4-.92-.59-1.43-.59-.52 0-1.04.2-1.43.59L10.3 9.45l-7.72 7.72c-.78.78-.78 2.05 0 2.83L4 21.41c.39.39.9.59 1.41.59.51 0 1.02-.2 1.41-.59l7.78-7.78 2.81-2.81c.8-.78.8-2.07 0-2.86zM5.41 20L4 18.59l7.72-7.72 1.47 1.35L5.41 20z\"/>\n",
              "  </svg>\n",
              "      </button>\n",
              "      \n",
              "  <style>\n",
              "    .colab-df-container {\n",
              "      display:flex;\n",
              "      flex-wrap:wrap;\n",
              "      gap: 12px;\n",
              "    }\n",
              "\n",
              "    .colab-df-convert {\n",
              "      background-color: #E8F0FE;\n",
              "      border: none;\n",
              "      border-radius: 50%;\n",
              "      cursor: pointer;\n",
              "      display: none;\n",
              "      fill: #1967D2;\n",
              "      height: 32px;\n",
              "      padding: 0 0 0 0;\n",
              "      width: 32px;\n",
              "    }\n",
              "\n",
              "    .colab-df-convert:hover {\n",
              "      background-color: #E2EBFA;\n",
              "      box-shadow: 0px 1px 2px rgba(60, 64, 67, 0.3), 0px 1px 3px 1px rgba(60, 64, 67, 0.15);\n",
              "      fill: #174EA6;\n",
              "    }\n",
              "\n",
              "    [theme=dark] .colab-df-convert {\n",
              "      background-color: #3B4455;\n",
              "      fill: #D2E3FC;\n",
              "    }\n",
              "\n",
              "    [theme=dark] .colab-df-convert:hover {\n",
              "      background-color: #434B5C;\n",
              "      box-shadow: 0px 1px 3px 1px rgba(0, 0, 0, 0.15);\n",
              "      filter: drop-shadow(0px 1px 2px rgba(0, 0, 0, 0.3));\n",
              "      fill: #FFFFFF;\n",
              "    }\n",
              "  </style>\n",
              "\n",
              "      <script>\n",
              "        const buttonEl =\n",
              "          document.querySelector('#df-208b5e96-18b4-437f-85b9-312ab2a78d05 button.colab-df-convert');\n",
              "        buttonEl.style.display =\n",
              "          google.colab.kernel.accessAllowed ? 'block' : 'none';\n",
              "\n",
              "        async function convertToInteractive(key) {\n",
              "          const element = document.querySelector('#df-208b5e96-18b4-437f-85b9-312ab2a78d05');\n",
              "          const dataTable =\n",
              "            await google.colab.kernel.invokeFunction('convertToInteractive',\n",
              "                                                     [key], {});\n",
              "          if (!dataTable) return;\n",
              "\n",
              "          const docLinkHtml = 'Like what you see? Visit the ' +\n",
              "            '<a target=\"_blank\" href=https://colab.research.google.com/notebooks/data_table.ipynb>data table notebook</a>'\n",
              "            + ' to learn more about interactive tables.';\n",
              "          element.innerHTML = '';\n",
              "          dataTable['output_type'] = 'display_data';\n",
              "          await google.colab.output.renderOutput(dataTable, element);\n",
              "          const docLink = document.createElement('div');\n",
              "          docLink.innerHTML = docLinkHtml;\n",
              "          element.appendChild(docLink);\n",
              "        }\n",
              "      </script>\n",
              "    </div>\n",
              "  </div>\n",
              "  "
            ]
          },
          "metadata": {},
          "execution_count": 37
        },
        {
          "output_type": "stream",
          "name": "stdout",
          "text": [
            "Warning: total number of rows (41355) exceeds max_rows (20000). Limiting to first (20000) rows.\n"
          ]
        }
      ]
    },
    {
      "cell_type": "code",
      "source": [
        "df.head(10)"
      ],
      "metadata": {
        "colab": {
          "base_uri": "https://localhost:8080/",
          "height": 404
        },
        "id": "zP-O3iZlY2-O",
        "outputId": "564e4fdc-a81a-40fc-a3ec-b2b5fa00bbfb"
      },
      "execution_count": 38,
      "outputs": [
        {
          "output_type": "execute_result",
          "data": {
            "text/plain": [
              "                                                name  \\\n",
              "0                              Dil - E - Nadan Tujhe   \n",
              "1                  Agar Hum Kahen Aur Woh Muskara De   \n",
              "2                                      Unke Dekhe Se   \n",
              "3            Yeh Na Thi Hamari Qismat - Chitra Singh   \n",
              "4                            Hazaron Khwahishen Aisi   \n",
              "5               Suna Tha Ki Woh Aayenge Anjuman Mein   \n",
              "6  Bahut Pahele Se Un Qadmon Ki Aahat Jaan Lete Hain   \n",
              "7                        Tum Itna Jo Muskura Rahe Ho   \n",
              "8                           Tum Apna Ranjhogham Apni   \n",
              "9                    Dialogues And Ishq Mujhko Nahin   \n",
              "\n",
              "                          singer  \\\n",
              "0      Chitra Singh|Jagjit Singh   \n",
              "1      Chitra Singh|Jagjit Singh   \n",
              "2                   Jagjit Singh   \n",
              "3                   Chitra Singh   \n",
              "4                   Jagjit Singh   \n",
              "5      Chitra Singh|Jagjit Singh   \n",
              "6      Chitra Singh|Jagjit Singh   \n",
              "7                   Jagjit Singh   \n",
              "8                    Jagjit Kaur   \n",
              "9  Chitra Singh|Naseeruddin Shah   \n",
              "\n",
              "                                       singer_id duration  \\\n",
              "0   /artist/chitra-singh|/artist/jagjeet-singh-1    05:00   \n",
              "1   /artist/chitra-singh|/artist/jagjeet-singh-1    06:26   \n",
              "2                        /artist/jagjeet-singh-1    03:41   \n",
              "3                           /artist/chitra-singh    04:26   \n",
              "4                        /artist/jagjeet-singh-1    05:39   \n",
              "5   /artist/chitra-singh|/artist/jagjeet-singh-1    07:59   \n",
              "6   /artist/chitra-singh|/artist/jagjeet-singh-1    04:48   \n",
              "7                        /artist/jagjeet-singh-1    05:21   \n",
              "8                            /artist/jagjit-kaur    03:09   \n",
              "9  /artist/chitra-singh|/artist/naseeruddin-shah    04:24   \n",
              "\n",
              "                                                link language  \n",
              "0                               /dil-e-nadan-tujhe-3     Urdu  \n",
              "1                /agar-hum-kahen-aur-woh-muskura-den     Urdu  \n",
              "2                                     /unke-dekhe-se     Urdu  \n",
              "3                        /yeh-na-thi-hamari-qismat-2     Urdu  \n",
              "4                         /hazaron-khwahishen-aisi-1     Urdu  \n",
              "5              /suna-tha-ki-woh-aayenge-anjuman-live     Urdu  \n",
              "6  /bahut-pahele-se-un-kadmo-ki-aahat-jaan-lete-hain     Urdu  \n",
              "7                    /tum-itna-jo-muskura-rahe-ho-12     Urdu  \n",
              "8                        /tum-apna-ranjhogham-apni-1     Urdu  \n",
              "9                                      /dialogues-82     Urdu  "
            ],
            "text/html": [
              "\n",
              "  <div id=\"df-5d54af67-ef4b-43e6-b61e-347346acbf2f\">\n",
              "    <div class=\"colab-df-container\">\n",
              "      <div>\n",
              "<style scoped>\n",
              "    .dataframe tbody tr th:only-of-type {\n",
              "        vertical-align: middle;\n",
              "    }\n",
              "\n",
              "    .dataframe tbody tr th {\n",
              "        vertical-align: top;\n",
              "    }\n",
              "\n",
              "    .dataframe thead th {\n",
              "        text-align: right;\n",
              "    }\n",
              "</style>\n",
              "<table border=\"1\" class=\"dataframe\">\n",
              "  <thead>\n",
              "    <tr style=\"text-align: right;\">\n",
              "      <th></th>\n",
              "      <th>name</th>\n",
              "      <th>singer</th>\n",
              "      <th>singer_id</th>\n",
              "      <th>duration</th>\n",
              "      <th>link</th>\n",
              "      <th>language</th>\n",
              "    </tr>\n",
              "  </thead>\n",
              "  <tbody>\n",
              "    <tr>\n",
              "      <th>0</th>\n",
              "      <td>Dil - E - Nadan Tujhe</td>\n",
              "      <td>Chitra Singh|Jagjit Singh</td>\n",
              "      <td>/artist/chitra-singh|/artist/jagjeet-singh-1</td>\n",
              "      <td>05:00</td>\n",
              "      <td>/dil-e-nadan-tujhe-3</td>\n",
              "      <td>Urdu</td>\n",
              "    </tr>\n",
              "    <tr>\n",
              "      <th>1</th>\n",
              "      <td>Agar Hum Kahen Aur Woh Muskara De</td>\n",
              "      <td>Chitra Singh|Jagjit Singh</td>\n",
              "      <td>/artist/chitra-singh|/artist/jagjeet-singh-1</td>\n",
              "      <td>06:26</td>\n",
              "      <td>/agar-hum-kahen-aur-woh-muskura-den</td>\n",
              "      <td>Urdu</td>\n",
              "    </tr>\n",
              "    <tr>\n",
              "      <th>2</th>\n",
              "      <td>Unke Dekhe Se</td>\n",
              "      <td>Jagjit Singh</td>\n",
              "      <td>/artist/jagjeet-singh-1</td>\n",
              "      <td>03:41</td>\n",
              "      <td>/unke-dekhe-se</td>\n",
              "      <td>Urdu</td>\n",
              "    </tr>\n",
              "    <tr>\n",
              "      <th>3</th>\n",
              "      <td>Yeh Na Thi Hamari Qismat - Chitra Singh</td>\n",
              "      <td>Chitra Singh</td>\n",
              "      <td>/artist/chitra-singh</td>\n",
              "      <td>04:26</td>\n",
              "      <td>/yeh-na-thi-hamari-qismat-2</td>\n",
              "      <td>Urdu</td>\n",
              "    </tr>\n",
              "    <tr>\n",
              "      <th>4</th>\n",
              "      <td>Hazaron Khwahishen Aisi</td>\n",
              "      <td>Jagjit Singh</td>\n",
              "      <td>/artist/jagjeet-singh-1</td>\n",
              "      <td>05:39</td>\n",
              "      <td>/hazaron-khwahishen-aisi-1</td>\n",
              "      <td>Urdu</td>\n",
              "    </tr>\n",
              "    <tr>\n",
              "      <th>5</th>\n",
              "      <td>Suna Tha Ki Woh Aayenge Anjuman Mein</td>\n",
              "      <td>Chitra Singh|Jagjit Singh</td>\n",
              "      <td>/artist/chitra-singh|/artist/jagjeet-singh-1</td>\n",
              "      <td>07:59</td>\n",
              "      <td>/suna-tha-ki-woh-aayenge-anjuman-live</td>\n",
              "      <td>Urdu</td>\n",
              "    </tr>\n",
              "    <tr>\n",
              "      <th>6</th>\n",
              "      <td>Bahut Pahele Se Un Qadmon Ki Aahat Jaan Lete Hain</td>\n",
              "      <td>Chitra Singh|Jagjit Singh</td>\n",
              "      <td>/artist/chitra-singh|/artist/jagjeet-singh-1</td>\n",
              "      <td>04:48</td>\n",
              "      <td>/bahut-pahele-se-un-kadmo-ki-aahat-jaan-lete-hain</td>\n",
              "      <td>Urdu</td>\n",
              "    </tr>\n",
              "    <tr>\n",
              "      <th>7</th>\n",
              "      <td>Tum Itna Jo Muskura Rahe Ho</td>\n",
              "      <td>Jagjit Singh</td>\n",
              "      <td>/artist/jagjeet-singh-1</td>\n",
              "      <td>05:21</td>\n",
              "      <td>/tum-itna-jo-muskura-rahe-ho-12</td>\n",
              "      <td>Urdu</td>\n",
              "    </tr>\n",
              "    <tr>\n",
              "      <th>8</th>\n",
              "      <td>Tum Apna Ranjhogham Apni</td>\n",
              "      <td>Jagjit Kaur</td>\n",
              "      <td>/artist/jagjit-kaur</td>\n",
              "      <td>03:09</td>\n",
              "      <td>/tum-apna-ranjhogham-apni-1</td>\n",
              "      <td>Urdu</td>\n",
              "    </tr>\n",
              "    <tr>\n",
              "      <th>9</th>\n",
              "      <td>Dialogues And Ishq Mujhko Nahin</td>\n",
              "      <td>Chitra Singh|Naseeruddin Shah</td>\n",
              "      <td>/artist/chitra-singh|/artist/naseeruddin-shah</td>\n",
              "      <td>04:24</td>\n",
              "      <td>/dialogues-82</td>\n",
              "      <td>Urdu</td>\n",
              "    </tr>\n",
              "  </tbody>\n",
              "</table>\n",
              "</div>\n",
              "      <button class=\"colab-df-convert\" onclick=\"convertToInteractive('df-5d54af67-ef4b-43e6-b61e-347346acbf2f')\"\n",
              "              title=\"Convert this dataframe to an interactive table.\"\n",
              "              style=\"display:none;\">\n",
              "        \n",
              "  <svg xmlns=\"http://www.w3.org/2000/svg\" height=\"24px\"viewBox=\"0 0 24 24\"\n",
              "       width=\"24px\">\n",
              "    <path d=\"M0 0h24v24H0V0z\" fill=\"none\"/>\n",
              "    <path d=\"M18.56 5.44l.94 2.06.94-2.06 2.06-.94-2.06-.94-.94-2.06-.94 2.06-2.06.94zm-11 1L8.5 8.5l.94-2.06 2.06-.94-2.06-.94L8.5 2.5l-.94 2.06-2.06.94zm10 10l.94 2.06.94-2.06 2.06-.94-2.06-.94-.94-2.06-.94 2.06-2.06.94z\"/><path d=\"M17.41 7.96l-1.37-1.37c-.4-.4-.92-.59-1.43-.59-.52 0-1.04.2-1.43.59L10.3 9.45l-7.72 7.72c-.78.78-.78 2.05 0 2.83L4 21.41c.39.39.9.59 1.41.59.51 0 1.02-.2 1.41-.59l7.78-7.78 2.81-2.81c.8-.78.8-2.07 0-2.86zM5.41 20L4 18.59l7.72-7.72 1.47 1.35L5.41 20z\"/>\n",
              "  </svg>\n",
              "      </button>\n",
              "      \n",
              "  <style>\n",
              "    .colab-df-container {\n",
              "      display:flex;\n",
              "      flex-wrap:wrap;\n",
              "      gap: 12px;\n",
              "    }\n",
              "\n",
              "    .colab-df-convert {\n",
              "      background-color: #E8F0FE;\n",
              "      border: none;\n",
              "      border-radius: 50%;\n",
              "      cursor: pointer;\n",
              "      display: none;\n",
              "      fill: #1967D2;\n",
              "      height: 32px;\n",
              "      padding: 0 0 0 0;\n",
              "      width: 32px;\n",
              "    }\n",
              "\n",
              "    .colab-df-convert:hover {\n",
              "      background-color: #E2EBFA;\n",
              "      box-shadow: 0px 1px 2px rgba(60, 64, 67, 0.3), 0px 1px 3px 1px rgba(60, 64, 67, 0.15);\n",
              "      fill: #174EA6;\n",
              "    }\n",
              "\n",
              "    [theme=dark] .colab-df-convert {\n",
              "      background-color: #3B4455;\n",
              "      fill: #D2E3FC;\n",
              "    }\n",
              "\n",
              "    [theme=dark] .colab-df-convert:hover {\n",
              "      background-color: #434B5C;\n",
              "      box-shadow: 0px 1px 3px 1px rgba(0, 0, 0, 0.15);\n",
              "      filter: drop-shadow(0px 1px 2px rgba(0, 0, 0, 0.3));\n",
              "      fill: #FFFFFF;\n",
              "    }\n",
              "  </style>\n",
              "\n",
              "      <script>\n",
              "        const buttonEl =\n",
              "          document.querySelector('#df-5d54af67-ef4b-43e6-b61e-347346acbf2f button.colab-df-convert');\n",
              "        buttonEl.style.display =\n",
              "          google.colab.kernel.accessAllowed ? 'block' : 'none';\n",
              "\n",
              "        async function convertToInteractive(key) {\n",
              "          const element = document.querySelector('#df-5d54af67-ef4b-43e6-b61e-347346acbf2f');\n",
              "          const dataTable =\n",
              "            await google.colab.kernel.invokeFunction('convertToInteractive',\n",
              "                                                     [key], {});\n",
              "          if (!dataTable) return;\n",
              "\n",
              "          const docLinkHtml = 'Like what you see? Visit the ' +\n",
              "            '<a target=\"_blank\" href=https://colab.research.google.com/notebooks/data_table.ipynb>data table notebook</a>'\n",
              "            + ' to learn more about interactive tables.';\n",
              "          element.innerHTML = '';\n",
              "          dataTable['output_type'] = 'display_data';\n",
              "          await google.colab.output.renderOutput(dataTable, element);\n",
              "          const docLink = document.createElement('div');\n",
              "          docLink.innerHTML = docLinkHtml;\n",
              "          element.appendChild(docLink);\n",
              "        }\n",
              "      </script>\n",
              "    </div>\n",
              "  </div>\n",
              "  "
            ]
          },
          "metadata": {},
          "execution_count": 38
        }
      ]
    },
    {
      "cell_type": "markdown",
      "source": [
        "checking null values"
      ],
      "metadata": {
        "id": "nDa5T64wYqcA"
      }
    },
    {
      "cell_type": "code",
      "source": [
        "df.isnull()"
      ],
      "metadata": {
        "colab": {
          "base_uri": "https://localhost:8080/",
          "height": 424
        },
        "id": "BLUxQh94Yoi3",
        "outputId": "62cf318a-5649-4f9a-c206-5959e6d900e2"
      },
      "execution_count": 39,
      "outputs": [
        {
          "output_type": "execute_result",
          "data": {
            "text/plain": [
              "        name  singer  singer_id  duration   link  language\n",
              "0      False   False      False     False  False     False\n",
              "1      False   False      False     False  False     False\n",
              "2      False   False      False     False  False     False\n",
              "3      False   False      False     False  False     False\n",
              "4      False   False      False     False  False     False\n",
              "...      ...     ...        ...       ...    ...       ...\n",
              "41350  False   False      False     False  False     False\n",
              "41351  False   False      False     False  False     False\n",
              "41352  False   False      False     False  False     False\n",
              "41353  False   False      False     False  False     False\n",
              "41354  False   False      False     False  False     False\n",
              "\n",
              "[41355 rows x 6 columns]"
            ],
            "text/html": [
              "\n",
              "  <div id=\"df-594fbcbf-59ef-4d41-8fca-6d49f264a891\">\n",
              "    <div class=\"colab-df-container\">\n",
              "      <div>\n",
              "<style scoped>\n",
              "    .dataframe tbody tr th:only-of-type {\n",
              "        vertical-align: middle;\n",
              "    }\n",
              "\n",
              "    .dataframe tbody tr th {\n",
              "        vertical-align: top;\n",
              "    }\n",
              "\n",
              "    .dataframe thead th {\n",
              "        text-align: right;\n",
              "    }\n",
              "</style>\n",
              "<table border=\"1\" class=\"dataframe\">\n",
              "  <thead>\n",
              "    <tr style=\"text-align: right;\">\n",
              "      <th></th>\n",
              "      <th>name</th>\n",
              "      <th>singer</th>\n",
              "      <th>singer_id</th>\n",
              "      <th>duration</th>\n",
              "      <th>link</th>\n",
              "      <th>language</th>\n",
              "    </tr>\n",
              "  </thead>\n",
              "  <tbody>\n",
              "    <tr>\n",
              "      <th>0</th>\n",
              "      <td>False</td>\n",
              "      <td>False</td>\n",
              "      <td>False</td>\n",
              "      <td>False</td>\n",
              "      <td>False</td>\n",
              "      <td>False</td>\n",
              "    </tr>\n",
              "    <tr>\n",
              "      <th>1</th>\n",
              "      <td>False</td>\n",
              "      <td>False</td>\n",
              "      <td>False</td>\n",
              "      <td>False</td>\n",
              "      <td>False</td>\n",
              "      <td>False</td>\n",
              "    </tr>\n",
              "    <tr>\n",
              "      <th>2</th>\n",
              "      <td>False</td>\n",
              "      <td>False</td>\n",
              "      <td>False</td>\n",
              "      <td>False</td>\n",
              "      <td>False</td>\n",
              "      <td>False</td>\n",
              "    </tr>\n",
              "    <tr>\n",
              "      <th>3</th>\n",
              "      <td>False</td>\n",
              "      <td>False</td>\n",
              "      <td>False</td>\n",
              "      <td>False</td>\n",
              "      <td>False</td>\n",
              "      <td>False</td>\n",
              "    </tr>\n",
              "    <tr>\n",
              "      <th>4</th>\n",
              "      <td>False</td>\n",
              "      <td>False</td>\n",
              "      <td>False</td>\n",
              "      <td>False</td>\n",
              "      <td>False</td>\n",
              "      <td>False</td>\n",
              "    </tr>\n",
              "    <tr>\n",
              "      <th>...</th>\n",
              "      <td>...</td>\n",
              "      <td>...</td>\n",
              "      <td>...</td>\n",
              "      <td>...</td>\n",
              "      <td>...</td>\n",
              "      <td>...</td>\n",
              "    </tr>\n",
              "    <tr>\n",
              "      <th>41350</th>\n",
              "      <td>False</td>\n",
              "      <td>False</td>\n",
              "      <td>False</td>\n",
              "      <td>False</td>\n",
              "      <td>False</td>\n",
              "      <td>False</td>\n",
              "    </tr>\n",
              "    <tr>\n",
              "      <th>41351</th>\n",
              "      <td>False</td>\n",
              "      <td>False</td>\n",
              "      <td>False</td>\n",
              "      <td>False</td>\n",
              "      <td>False</td>\n",
              "      <td>False</td>\n",
              "    </tr>\n",
              "    <tr>\n",
              "      <th>41352</th>\n",
              "      <td>False</td>\n",
              "      <td>False</td>\n",
              "      <td>False</td>\n",
              "      <td>False</td>\n",
              "      <td>False</td>\n",
              "      <td>False</td>\n",
              "    </tr>\n",
              "    <tr>\n",
              "      <th>41353</th>\n",
              "      <td>False</td>\n",
              "      <td>False</td>\n",
              "      <td>False</td>\n",
              "      <td>False</td>\n",
              "      <td>False</td>\n",
              "      <td>False</td>\n",
              "    </tr>\n",
              "    <tr>\n",
              "      <th>41354</th>\n",
              "      <td>False</td>\n",
              "      <td>False</td>\n",
              "      <td>False</td>\n",
              "      <td>False</td>\n",
              "      <td>False</td>\n",
              "      <td>False</td>\n",
              "    </tr>\n",
              "  </tbody>\n",
              "</table>\n",
              "<p>41355 rows × 6 columns</p>\n",
              "</div>\n",
              "      <button class=\"colab-df-convert\" onclick=\"convertToInteractive('df-594fbcbf-59ef-4d41-8fca-6d49f264a891')\"\n",
              "              title=\"Convert this dataframe to an interactive table.\"\n",
              "              style=\"display:none;\">\n",
              "        \n",
              "  <svg xmlns=\"http://www.w3.org/2000/svg\" height=\"24px\"viewBox=\"0 0 24 24\"\n",
              "       width=\"24px\">\n",
              "    <path d=\"M0 0h24v24H0V0z\" fill=\"none\"/>\n",
              "    <path d=\"M18.56 5.44l.94 2.06.94-2.06 2.06-.94-2.06-.94-.94-2.06-.94 2.06-2.06.94zm-11 1L8.5 8.5l.94-2.06 2.06-.94-2.06-.94L8.5 2.5l-.94 2.06-2.06.94zm10 10l.94 2.06.94-2.06 2.06-.94-2.06-.94-.94-2.06-.94 2.06-2.06.94z\"/><path d=\"M17.41 7.96l-1.37-1.37c-.4-.4-.92-.59-1.43-.59-.52 0-1.04.2-1.43.59L10.3 9.45l-7.72 7.72c-.78.78-.78 2.05 0 2.83L4 21.41c.39.39.9.59 1.41.59.51 0 1.02-.2 1.41-.59l7.78-7.78 2.81-2.81c.8-.78.8-2.07 0-2.86zM5.41 20L4 18.59l7.72-7.72 1.47 1.35L5.41 20z\"/>\n",
              "  </svg>\n",
              "      </button>\n",
              "      \n",
              "  <style>\n",
              "    .colab-df-container {\n",
              "      display:flex;\n",
              "      flex-wrap:wrap;\n",
              "      gap: 12px;\n",
              "    }\n",
              "\n",
              "    .colab-df-convert {\n",
              "      background-color: #E8F0FE;\n",
              "      border: none;\n",
              "      border-radius: 50%;\n",
              "      cursor: pointer;\n",
              "      display: none;\n",
              "      fill: #1967D2;\n",
              "      height: 32px;\n",
              "      padding: 0 0 0 0;\n",
              "      width: 32px;\n",
              "    }\n",
              "\n",
              "    .colab-df-convert:hover {\n",
              "      background-color: #E2EBFA;\n",
              "      box-shadow: 0px 1px 2px rgba(60, 64, 67, 0.3), 0px 1px 3px 1px rgba(60, 64, 67, 0.15);\n",
              "      fill: #174EA6;\n",
              "    }\n",
              "\n",
              "    [theme=dark] .colab-df-convert {\n",
              "      background-color: #3B4455;\n",
              "      fill: #D2E3FC;\n",
              "    }\n",
              "\n",
              "    [theme=dark] .colab-df-convert:hover {\n",
              "      background-color: #434B5C;\n",
              "      box-shadow: 0px 1px 3px 1px rgba(0, 0, 0, 0.15);\n",
              "      filter: drop-shadow(0px 1px 2px rgba(0, 0, 0, 0.3));\n",
              "      fill: #FFFFFF;\n",
              "    }\n",
              "  </style>\n",
              "\n",
              "      <script>\n",
              "        const buttonEl =\n",
              "          document.querySelector('#df-594fbcbf-59ef-4d41-8fca-6d49f264a891 button.colab-df-convert');\n",
              "        buttonEl.style.display =\n",
              "          google.colab.kernel.accessAllowed ? 'block' : 'none';\n",
              "\n",
              "        async function convertToInteractive(key) {\n",
              "          const element = document.querySelector('#df-594fbcbf-59ef-4d41-8fca-6d49f264a891');\n",
              "          const dataTable =\n",
              "            await google.colab.kernel.invokeFunction('convertToInteractive',\n",
              "                                                     [key], {});\n",
              "          if (!dataTable) return;\n",
              "\n",
              "          const docLinkHtml = 'Like what you see? Visit the ' +\n",
              "            '<a target=\"_blank\" href=https://colab.research.google.com/notebooks/data_table.ipynb>data table notebook</a>'\n",
              "            + ' to learn more about interactive tables.';\n",
              "          element.innerHTML = '';\n",
              "          dataTable['output_type'] = 'display_data';\n",
              "          await google.colab.output.renderOutput(dataTable, element);\n",
              "          const docLink = document.createElement('div');\n",
              "          docLink.innerHTML = docLinkHtml;\n",
              "          element.appendChild(docLink);\n",
              "        }\n",
              "      </script>\n",
              "    </div>\n",
              "  </div>\n",
              "  "
            ]
          },
          "metadata": {},
          "execution_count": 39
        }
      ]
    },
    {
      "cell_type": "code",
      "source": [
        "df.isnull().sum()"
      ],
      "metadata": {
        "colab": {
          "base_uri": "https://localhost:8080/"
        },
        "id": "TAJzfU2TY0fN",
        "outputId": "aeb3ca48-b642-4760-cb39-dbe5d2e10979"
      },
      "execution_count": 40,
      "outputs": [
        {
          "output_type": "execute_result",
          "data": {
            "text/plain": [
              "name         0\n",
              "singer       0\n",
              "singer_id    0\n",
              "duration     0\n",
              "link         0\n",
              "language     0\n",
              "dtype: int64"
            ]
          },
          "metadata": {},
          "execution_count": 40
        }
      ]
    },
    {
      "cell_type": "markdown",
      "source": [
        "In this data set we have 6 cols and all are imp no col is unnecessary so we are not going to remove any column"
      ],
      "metadata": {
        "id": "CZCKOLsvZ0eN"
      }
    },
    {
      "cell_type": "markdown",
      "source": [
        "#data preprocessing\n",
        "\n",
        "####dealing with duration. we need to convert  duration into seconds for better and easy calculations."
      ],
      "metadata": {
        "id": "udgWEhAVaCFe"
      }
    },
    {
      "cell_type": "code",
      "source": [
        "duration_lst=[]\n",
        "for duration in df['duration']:\n",
        "  m=(duration.split(':')[0])\n",
        "  s=(duration.split(':')[1])\n",
        "  m=int(m)\n",
        "  s=int(s)\n",
        "  sec=m*60+s\n",
        "  duration_lst.append(sec)\n",
        "df['duration']=duration_lst"
      ],
      "metadata": {
        "id": "R6keZLpWZumZ"
      },
      "execution_count": 41,
      "outputs": []
    },
    {
      "cell_type": "code",
      "source": [
        "df.head(10)"
      ],
      "metadata": {
        "colab": {
          "base_uri": "https://localhost:8080/",
          "height": 404
        },
        "id": "cYotRgBDTdQ6",
        "outputId": "e0e13ff2-2230-41ce-8d09-e9f76d9962f6"
      },
      "execution_count": 42,
      "outputs": [
        {
          "output_type": "execute_result",
          "data": {
            "text/plain": [
              "                                                name  \\\n",
              "0                              Dil - E - Nadan Tujhe   \n",
              "1                  Agar Hum Kahen Aur Woh Muskara De   \n",
              "2                                      Unke Dekhe Se   \n",
              "3            Yeh Na Thi Hamari Qismat - Chitra Singh   \n",
              "4                            Hazaron Khwahishen Aisi   \n",
              "5               Suna Tha Ki Woh Aayenge Anjuman Mein   \n",
              "6  Bahut Pahele Se Un Qadmon Ki Aahat Jaan Lete Hain   \n",
              "7                        Tum Itna Jo Muskura Rahe Ho   \n",
              "8                           Tum Apna Ranjhogham Apni   \n",
              "9                    Dialogues And Ishq Mujhko Nahin   \n",
              "\n",
              "                          singer  \\\n",
              "0      Chitra Singh|Jagjit Singh   \n",
              "1      Chitra Singh|Jagjit Singh   \n",
              "2                   Jagjit Singh   \n",
              "3                   Chitra Singh   \n",
              "4                   Jagjit Singh   \n",
              "5      Chitra Singh|Jagjit Singh   \n",
              "6      Chitra Singh|Jagjit Singh   \n",
              "7                   Jagjit Singh   \n",
              "8                    Jagjit Kaur   \n",
              "9  Chitra Singh|Naseeruddin Shah   \n",
              "\n",
              "                                       singer_id  duration  \\\n",
              "0   /artist/chitra-singh|/artist/jagjeet-singh-1       300   \n",
              "1   /artist/chitra-singh|/artist/jagjeet-singh-1       386   \n",
              "2                        /artist/jagjeet-singh-1       221   \n",
              "3                           /artist/chitra-singh       266   \n",
              "4                        /artist/jagjeet-singh-1       339   \n",
              "5   /artist/chitra-singh|/artist/jagjeet-singh-1       479   \n",
              "6   /artist/chitra-singh|/artist/jagjeet-singh-1       288   \n",
              "7                        /artist/jagjeet-singh-1       321   \n",
              "8                            /artist/jagjit-kaur       189   \n",
              "9  /artist/chitra-singh|/artist/naseeruddin-shah       264   \n",
              "\n",
              "                                                link language  \n",
              "0                               /dil-e-nadan-tujhe-3     Urdu  \n",
              "1                /agar-hum-kahen-aur-woh-muskura-den     Urdu  \n",
              "2                                     /unke-dekhe-se     Urdu  \n",
              "3                        /yeh-na-thi-hamari-qismat-2     Urdu  \n",
              "4                         /hazaron-khwahishen-aisi-1     Urdu  \n",
              "5              /suna-tha-ki-woh-aayenge-anjuman-live     Urdu  \n",
              "6  /bahut-pahele-se-un-kadmo-ki-aahat-jaan-lete-hain     Urdu  \n",
              "7                    /tum-itna-jo-muskura-rahe-ho-12     Urdu  \n",
              "8                        /tum-apna-ranjhogham-apni-1     Urdu  \n",
              "9                                      /dialogues-82     Urdu  "
            ],
            "text/html": [
              "\n",
              "  <div id=\"df-bbabbefa-89ae-4a2f-87a2-edbbae7549f9\">\n",
              "    <div class=\"colab-df-container\">\n",
              "      <div>\n",
              "<style scoped>\n",
              "    .dataframe tbody tr th:only-of-type {\n",
              "        vertical-align: middle;\n",
              "    }\n",
              "\n",
              "    .dataframe tbody tr th {\n",
              "        vertical-align: top;\n",
              "    }\n",
              "\n",
              "    .dataframe thead th {\n",
              "        text-align: right;\n",
              "    }\n",
              "</style>\n",
              "<table border=\"1\" class=\"dataframe\">\n",
              "  <thead>\n",
              "    <tr style=\"text-align: right;\">\n",
              "      <th></th>\n",
              "      <th>name</th>\n",
              "      <th>singer</th>\n",
              "      <th>singer_id</th>\n",
              "      <th>duration</th>\n",
              "      <th>link</th>\n",
              "      <th>language</th>\n",
              "    </tr>\n",
              "  </thead>\n",
              "  <tbody>\n",
              "    <tr>\n",
              "      <th>0</th>\n",
              "      <td>Dil - E - Nadan Tujhe</td>\n",
              "      <td>Chitra Singh|Jagjit Singh</td>\n",
              "      <td>/artist/chitra-singh|/artist/jagjeet-singh-1</td>\n",
              "      <td>300</td>\n",
              "      <td>/dil-e-nadan-tujhe-3</td>\n",
              "      <td>Urdu</td>\n",
              "    </tr>\n",
              "    <tr>\n",
              "      <th>1</th>\n",
              "      <td>Agar Hum Kahen Aur Woh Muskara De</td>\n",
              "      <td>Chitra Singh|Jagjit Singh</td>\n",
              "      <td>/artist/chitra-singh|/artist/jagjeet-singh-1</td>\n",
              "      <td>386</td>\n",
              "      <td>/agar-hum-kahen-aur-woh-muskura-den</td>\n",
              "      <td>Urdu</td>\n",
              "    </tr>\n",
              "    <tr>\n",
              "      <th>2</th>\n",
              "      <td>Unke Dekhe Se</td>\n",
              "      <td>Jagjit Singh</td>\n",
              "      <td>/artist/jagjeet-singh-1</td>\n",
              "      <td>221</td>\n",
              "      <td>/unke-dekhe-se</td>\n",
              "      <td>Urdu</td>\n",
              "    </tr>\n",
              "    <tr>\n",
              "      <th>3</th>\n",
              "      <td>Yeh Na Thi Hamari Qismat - Chitra Singh</td>\n",
              "      <td>Chitra Singh</td>\n",
              "      <td>/artist/chitra-singh</td>\n",
              "      <td>266</td>\n",
              "      <td>/yeh-na-thi-hamari-qismat-2</td>\n",
              "      <td>Urdu</td>\n",
              "    </tr>\n",
              "    <tr>\n",
              "      <th>4</th>\n",
              "      <td>Hazaron Khwahishen Aisi</td>\n",
              "      <td>Jagjit Singh</td>\n",
              "      <td>/artist/jagjeet-singh-1</td>\n",
              "      <td>339</td>\n",
              "      <td>/hazaron-khwahishen-aisi-1</td>\n",
              "      <td>Urdu</td>\n",
              "    </tr>\n",
              "    <tr>\n",
              "      <th>5</th>\n",
              "      <td>Suna Tha Ki Woh Aayenge Anjuman Mein</td>\n",
              "      <td>Chitra Singh|Jagjit Singh</td>\n",
              "      <td>/artist/chitra-singh|/artist/jagjeet-singh-1</td>\n",
              "      <td>479</td>\n",
              "      <td>/suna-tha-ki-woh-aayenge-anjuman-live</td>\n",
              "      <td>Urdu</td>\n",
              "    </tr>\n",
              "    <tr>\n",
              "      <th>6</th>\n",
              "      <td>Bahut Pahele Se Un Qadmon Ki Aahat Jaan Lete Hain</td>\n",
              "      <td>Chitra Singh|Jagjit Singh</td>\n",
              "      <td>/artist/chitra-singh|/artist/jagjeet-singh-1</td>\n",
              "      <td>288</td>\n",
              "      <td>/bahut-pahele-se-un-kadmo-ki-aahat-jaan-lete-hain</td>\n",
              "      <td>Urdu</td>\n",
              "    </tr>\n",
              "    <tr>\n",
              "      <th>7</th>\n",
              "      <td>Tum Itna Jo Muskura Rahe Ho</td>\n",
              "      <td>Jagjit Singh</td>\n",
              "      <td>/artist/jagjeet-singh-1</td>\n",
              "      <td>321</td>\n",
              "      <td>/tum-itna-jo-muskura-rahe-ho-12</td>\n",
              "      <td>Urdu</td>\n",
              "    </tr>\n",
              "    <tr>\n",
              "      <th>8</th>\n",
              "      <td>Tum Apna Ranjhogham Apni</td>\n",
              "      <td>Jagjit Kaur</td>\n",
              "      <td>/artist/jagjit-kaur</td>\n",
              "      <td>189</td>\n",
              "      <td>/tum-apna-ranjhogham-apni-1</td>\n",
              "      <td>Urdu</td>\n",
              "    </tr>\n",
              "    <tr>\n",
              "      <th>9</th>\n",
              "      <td>Dialogues And Ishq Mujhko Nahin</td>\n",
              "      <td>Chitra Singh|Naseeruddin Shah</td>\n",
              "      <td>/artist/chitra-singh|/artist/naseeruddin-shah</td>\n",
              "      <td>264</td>\n",
              "      <td>/dialogues-82</td>\n",
              "      <td>Urdu</td>\n",
              "    </tr>\n",
              "  </tbody>\n",
              "</table>\n",
              "</div>\n",
              "      <button class=\"colab-df-convert\" onclick=\"convertToInteractive('df-bbabbefa-89ae-4a2f-87a2-edbbae7549f9')\"\n",
              "              title=\"Convert this dataframe to an interactive table.\"\n",
              "              style=\"display:none;\">\n",
              "        \n",
              "  <svg xmlns=\"http://www.w3.org/2000/svg\" height=\"24px\"viewBox=\"0 0 24 24\"\n",
              "       width=\"24px\">\n",
              "    <path d=\"M0 0h24v24H0V0z\" fill=\"none\"/>\n",
              "    <path d=\"M18.56 5.44l.94 2.06.94-2.06 2.06-.94-2.06-.94-.94-2.06-.94 2.06-2.06.94zm-11 1L8.5 8.5l.94-2.06 2.06-.94-2.06-.94L8.5 2.5l-.94 2.06-2.06.94zm10 10l.94 2.06.94-2.06 2.06-.94-2.06-.94-.94-2.06-.94 2.06-2.06.94z\"/><path d=\"M17.41 7.96l-1.37-1.37c-.4-.4-.92-.59-1.43-.59-.52 0-1.04.2-1.43.59L10.3 9.45l-7.72 7.72c-.78.78-.78 2.05 0 2.83L4 21.41c.39.39.9.59 1.41.59.51 0 1.02-.2 1.41-.59l7.78-7.78 2.81-2.81c.8-.78.8-2.07 0-2.86zM5.41 20L4 18.59l7.72-7.72 1.47 1.35L5.41 20z\"/>\n",
              "  </svg>\n",
              "      </button>\n",
              "      \n",
              "  <style>\n",
              "    .colab-df-container {\n",
              "      display:flex;\n",
              "      flex-wrap:wrap;\n",
              "      gap: 12px;\n",
              "    }\n",
              "\n",
              "    .colab-df-convert {\n",
              "      background-color: #E8F0FE;\n",
              "      border: none;\n",
              "      border-radius: 50%;\n",
              "      cursor: pointer;\n",
              "      display: none;\n",
              "      fill: #1967D2;\n",
              "      height: 32px;\n",
              "      padding: 0 0 0 0;\n",
              "      width: 32px;\n",
              "    }\n",
              "\n",
              "    .colab-df-convert:hover {\n",
              "      background-color: #E2EBFA;\n",
              "      box-shadow: 0px 1px 2px rgba(60, 64, 67, 0.3), 0px 1px 3px 1px rgba(60, 64, 67, 0.15);\n",
              "      fill: #174EA6;\n",
              "    }\n",
              "\n",
              "    [theme=dark] .colab-df-convert {\n",
              "      background-color: #3B4455;\n",
              "      fill: #D2E3FC;\n",
              "    }\n",
              "\n",
              "    [theme=dark] .colab-df-convert:hover {\n",
              "      background-color: #434B5C;\n",
              "      box-shadow: 0px 1px 3px 1px rgba(0, 0, 0, 0.15);\n",
              "      filter: drop-shadow(0px 1px 2px rgba(0, 0, 0, 0.3));\n",
              "      fill: #FFFFFF;\n",
              "    }\n",
              "  </style>\n",
              "\n",
              "      <script>\n",
              "        const buttonEl =\n",
              "          document.querySelector('#df-bbabbefa-89ae-4a2f-87a2-edbbae7549f9 button.colab-df-convert');\n",
              "        buttonEl.style.display =\n",
              "          google.colab.kernel.accessAllowed ? 'block' : 'none';\n",
              "\n",
              "        async function convertToInteractive(key) {\n",
              "          const element = document.querySelector('#df-bbabbefa-89ae-4a2f-87a2-edbbae7549f9');\n",
              "          const dataTable =\n",
              "            await google.colab.kernel.invokeFunction('convertToInteractive',\n",
              "                                                     [key], {});\n",
              "          if (!dataTable) return;\n",
              "\n",
              "          const docLinkHtml = 'Like what you see? Visit the ' +\n",
              "            '<a target=\"_blank\" href=https://colab.research.google.com/notebooks/data_table.ipynb>data table notebook</a>'\n",
              "            + ' to learn more about interactive tables.';\n",
              "          element.innerHTML = '';\n",
              "          dataTable['output_type'] = 'display_data';\n",
              "          await google.colab.output.renderOutput(dataTable, element);\n",
              "          const docLink = document.createElement('div');\n",
              "          docLink.innerHTML = docLinkHtml;\n",
              "          element.appendChild(docLink);\n",
              "        }\n",
              "      </script>\n",
              "    </div>\n",
              "  </div>\n",
              "  "
            ]
          },
          "metadata": {},
          "execution_count": 42
        }
      ]
    },
    {
      "cell_type": "markdown",
      "source": [
        "#Data Analysis"
      ],
      "metadata": {
        "id": "9laONFcXw3II"
      }
    },
    {
      "cell_type": "markdown",
      "source": [
        "###average duration of a song through out a dataset?"
      ],
      "metadata": {
        "id": "dhiyhTDmxAVQ"
      }
    },
    {
      "cell_type": "code",
      "source": [
        "average=int(df['duration'].sum()/len(df['duration']))\n"
      ],
      "metadata": {
        "id": "EHUZ-1R3zBdu"
      },
      "execution_count": 43,
      "outputs": []
    },
    {
      "cell_type": "code",
      "source": [
        "print(\"Average duration of a song is\", average)"
      ],
      "metadata": {
        "colab": {
          "base_uri": "https://localhost:8080/"
        },
        "id": "baqgLEXQULWj",
        "outputId": "f18ed236-8d5c-4ac3-eb1c-87abe34ec8f5"
      },
      "execution_count": 44,
      "outputs": [
        {
          "output_type": "stream",
          "name": "stdout",
          "text": [
            "Average duration of a song is 295\n"
          ]
        }
      ]
    },
    {
      "cell_type": "markdown",
      "source": [
        "###how many languages of songs are there?"
      ],
      "metadata": {
        "id": "jCj60nU31b-P"
      }
    },
    {
      "cell_type": "code",
      "source": [
        "print(\"There are total\",len(set(df['language'])),\"different languages\")"
      ],
      "metadata": {
        "colab": {
          "base_uri": "https://localhost:8080/"
        },
        "id": "-4TA8myExc1z",
        "outputId": "8c75da49-c7e8-49ba-eda1-e52136715359"
      },
      "execution_count": 62,
      "outputs": [
        {
          "output_type": "stream",
          "name": "stdout",
          "text": [
            "There are total 16 different languages\n"
          ]
        }
      ]
    },
    {
      "cell_type": "markdown",
      "source": [
        "###what are all the different languages?"
      ],
      "metadata": {
        "id": "Iv9MODDEjKQu"
      }
    },
    {
      "cell_type": "code",
      "source": [
        "for i in set(df['language']):\n",
        "  print(i)"
      ],
      "metadata": {
        "colab": {
          "base_uri": "https://localhost:8080/"
        },
        "id": "TJWGxkBcjI2o",
        "outputId": "cee0e3e6-489d-4832-d155-070f7d736420"
      },
      "execution_count": 46,
      "outputs": [
        {
          "output_type": "stream",
          "name": "stdout",
          "text": [
            "Gujarati\n",
            "Hindi\n",
            "Kannada\n",
            "Haryanvi\n",
            "Bengali\n",
            "Punjabi\n",
            "Malayalam\n",
            "Bhojpuri\n",
            "Odia\n",
            "Telugu\n",
            "Assamese\n",
            "Marathi\n",
            "Urdu\n",
            "Tamil\n",
            "Old\n",
            "Rajasthani\n"
          ]
        }
      ]
    },
    {
      "cell_type": "markdown",
      "source": [
        "#Selecting columns with a specific filter"
      ],
      "metadata": {
        "id": "-kCCdniTjwsp"
      }
    },
    {
      "cell_type": "markdown",
      "source": [
        "###how many punjabi songs are there?"
      ],
      "metadata": {
        "id": "BPimVYRzqEhK"
      }
    },
    {
      "cell_type": "code",
      "source": [
        "print(\"There are total\",len(df[df['language']=='Punjabi']),\"Punjabi songs\")"
      ],
      "metadata": {
        "colab": {
          "base_uri": "https://localhost:8080/"
        },
        "id": "h4_MWlbYjTwv",
        "outputId": "2cce307c-61d7-4664-8925-d10395e47c0b"
      },
      "execution_count": 64,
      "outputs": [
        {
          "output_type": "stream",
          "name": "stdout",
          "text": [
            "There are total 3818 Punjabi songs\n"
          ]
        }
      ]
    },
    {
      "cell_type": "markdown",
      "source": [
        "###How many songs are there in each language? "
      ],
      "metadata": {
        "id": "HZ-t-JeetZSg"
      }
    },
    {
      "cell_type": "code",
      "source": [
        "for lang in df['language'].unique():\n",
        "  print(lang,len(df[df['language']==lang]))"
      ],
      "metadata": {
        "colab": {
          "base_uri": "https://localhost:8080/"
        },
        "id": "HBPYsyvfqcsm",
        "outputId": "8c459f4f-8863-4074-bf33-e6aba4d80d23"
      },
      "execution_count": 48,
      "outputs": [
        {
          "output_type": "stream",
          "name": "stdout",
          "text": [
            "Urdu 3116\n",
            "Gujarati 2115\n",
            "Tamil 4677\n",
            "Kannada 3559\n",
            "Rajasthani 541\n",
            "Haryanvi 228\n",
            "Punjabi 3818\n",
            "Hindi 4993\n",
            "Old 4993\n",
            "Malayalam 479\n",
            "Marathi 4699\n",
            "Telugu 4996\n",
            "Odia 940\n",
            "Bhojpuri 519\n",
            "Assamese 724\n",
            "Bengali 958\n"
          ]
        }
      ]
    },
    {
      "cell_type": "markdown",
      "source": [
        "###What is the average duration of song in each language?"
      ],
      "metadata": {
        "id": "hpNpqYJD_vbY"
      }
    },
    {
      "cell_type": "code",
      "source": [
        "for lang in df['language'].unique():\n",
        "  print(lang,int(df[df['language']==lang]['duration'].mean()))"
      ],
      "metadata": {
        "id": "92HjjqtYuyi7",
        "colab": {
          "base_uri": "https://localhost:8080/"
        },
        "outputId": "3100eef3-f8b5-4f82-f8f2-51fa3f4325ce"
      },
      "execution_count": 49,
      "outputs": [
        {
          "output_type": "stream",
          "name": "stdout",
          "text": [
            "Urdu 407\n",
            "Gujarati 271\n",
            "Tamil 270\n",
            "Kannada 250\n",
            "Rajasthani 291\n",
            "Haryanvi 320\n",
            "Punjabi 324\n",
            "Hindi 307\n",
            "Old 307\n",
            "Malayalam 242\n",
            "Marathi 281\n",
            "Telugu 279\n",
            "Odia 257\n",
            "Bhojpuri 357\n",
            "Assamese 228\n",
            "Bengali 255\n"
          ]
        }
      ]
    },
    {
      "cell_type": "markdown",
      "source": [
        "because of ghazals urdu has comparitively higher average duration of songs than other languages.\n"
      ],
      "metadata": {
        "id": "eixFiax-AIyn"
      }
    },
    {
      "cell_type": "code",
      "source": [
        "singers=[]\n",
        "for nsinger in df['singer']:\n",
        "  singers+=nsinger.split('|')"
      ],
      "metadata": {
        "id": "tY19dW3wADFa"
      },
      "execution_count": 50,
      "outputs": []
    },
    {
      "cell_type": "code",
      "source": [
        "len(set(singers))"
      ],
      "metadata": {
        "colab": {
          "base_uri": "https://localhost:8080/"
        },
        "id": "iNiU5_hUhKkn",
        "outputId": "be723c51-b5e5-42df-d2de-20c432aa4ce7"
      },
      "execution_count": 52,
      "outputs": [
        {
          "output_type": "execute_result",
          "data": {
            "text/plain": [
              "3940"
            ]
          },
          "metadata": {},
          "execution_count": 52
        }
      ]
    },
    {
      "cell_type": "code",
      "source": [
        "data = []\n",
        "\n",
        "unique_singers = list(set(singers))\n",
        "\n",
        "for i in unique_singers:\n",
        "\n",
        "  c = 0\n",
        "  for singers_ in df['singer']:\n",
        "    if (i in singers_):\n",
        "      c += 1\n",
        "\n",
        "  data.append([i,c])"
      ],
      "metadata": {
        "id": "KIxiQIOvhLh9"
      },
      "execution_count": 55,
      "outputs": []
    },
    {
      "cell_type": "code",
      "source": [
        "songs = pd.DataFrame(data, columns = ['singer','songs'])\n",
        "\n",
        "songs.head()\n",
        "\n",
        "songs.sort_values(by = 'songs', ascending = False).head()"
      ],
      "metadata": {
        "colab": {
          "base_uri": "https://localhost:8080/",
          "height": 206
        },
        "id": "WktYtmgrkYF7",
        "outputId": "44c35eb0-c211-40d6-f0b7-527a2ccf646e"
      },
      "execution_count": 56,
      "outputs": [
        {
          "output_type": "execute_result",
          "data": {
            "text/plain": [
              "                      singer  songs\n",
              "2969  S. P. Balasubrahmanyam   3659\n",
              "1919                   Kumar   3270\n",
              "1018                 Susheel   3216\n",
              "1996                Susheela   3215\n",
              "3828             P. Susheela   3213"
            ],
            "text/html": [
              "\n",
              "  <div id=\"df-21a4ca2c-a8e3-49f4-84c4-9d757110b8c9\">\n",
              "    <div class=\"colab-df-container\">\n",
              "      <div>\n",
              "<style scoped>\n",
              "    .dataframe tbody tr th:only-of-type {\n",
              "        vertical-align: middle;\n",
              "    }\n",
              "\n",
              "    .dataframe tbody tr th {\n",
              "        vertical-align: top;\n",
              "    }\n",
              "\n",
              "    .dataframe thead th {\n",
              "        text-align: right;\n",
              "    }\n",
              "</style>\n",
              "<table border=\"1\" class=\"dataframe\">\n",
              "  <thead>\n",
              "    <tr style=\"text-align: right;\">\n",
              "      <th></th>\n",
              "      <th>singer</th>\n",
              "      <th>songs</th>\n",
              "    </tr>\n",
              "  </thead>\n",
              "  <tbody>\n",
              "    <tr>\n",
              "      <th>2969</th>\n",
              "      <td>S. P. Balasubrahmanyam</td>\n",
              "      <td>3659</td>\n",
              "    </tr>\n",
              "    <tr>\n",
              "      <th>1919</th>\n",
              "      <td>Kumar</td>\n",
              "      <td>3270</td>\n",
              "    </tr>\n",
              "    <tr>\n",
              "      <th>1018</th>\n",
              "      <td>Susheel</td>\n",
              "      <td>3216</td>\n",
              "    </tr>\n",
              "    <tr>\n",
              "      <th>1996</th>\n",
              "      <td>Susheela</td>\n",
              "      <td>3215</td>\n",
              "    </tr>\n",
              "    <tr>\n",
              "      <th>3828</th>\n",
              "      <td>P. Susheela</td>\n",
              "      <td>3213</td>\n",
              "    </tr>\n",
              "  </tbody>\n",
              "</table>\n",
              "</div>\n",
              "      <button class=\"colab-df-convert\" onclick=\"convertToInteractive('df-21a4ca2c-a8e3-49f4-84c4-9d757110b8c9')\"\n",
              "              title=\"Convert this dataframe to an interactive table.\"\n",
              "              style=\"display:none;\">\n",
              "        \n",
              "  <svg xmlns=\"http://www.w3.org/2000/svg\" height=\"24px\"viewBox=\"0 0 24 24\"\n",
              "       width=\"24px\">\n",
              "    <path d=\"M0 0h24v24H0V0z\" fill=\"none\"/>\n",
              "    <path d=\"M18.56 5.44l.94 2.06.94-2.06 2.06-.94-2.06-.94-.94-2.06-.94 2.06-2.06.94zm-11 1L8.5 8.5l.94-2.06 2.06-.94-2.06-.94L8.5 2.5l-.94 2.06-2.06.94zm10 10l.94 2.06.94-2.06 2.06-.94-2.06-.94-.94-2.06-.94 2.06-2.06.94z\"/><path d=\"M17.41 7.96l-1.37-1.37c-.4-.4-.92-.59-1.43-.59-.52 0-1.04.2-1.43.59L10.3 9.45l-7.72 7.72c-.78.78-.78 2.05 0 2.83L4 21.41c.39.39.9.59 1.41.59.51 0 1.02-.2 1.41-.59l7.78-7.78 2.81-2.81c.8-.78.8-2.07 0-2.86zM5.41 20L4 18.59l7.72-7.72 1.47 1.35L5.41 20z\"/>\n",
              "  </svg>\n",
              "      </button>\n",
              "      \n",
              "  <style>\n",
              "    .colab-df-container {\n",
              "      display:flex;\n",
              "      flex-wrap:wrap;\n",
              "      gap: 12px;\n",
              "    }\n",
              "\n",
              "    .colab-df-convert {\n",
              "      background-color: #E8F0FE;\n",
              "      border: none;\n",
              "      border-radius: 50%;\n",
              "      cursor: pointer;\n",
              "      display: none;\n",
              "      fill: #1967D2;\n",
              "      height: 32px;\n",
              "      padding: 0 0 0 0;\n",
              "      width: 32px;\n",
              "    }\n",
              "\n",
              "    .colab-df-convert:hover {\n",
              "      background-color: #E2EBFA;\n",
              "      box-shadow: 0px 1px 2px rgba(60, 64, 67, 0.3), 0px 1px 3px 1px rgba(60, 64, 67, 0.15);\n",
              "      fill: #174EA6;\n",
              "    }\n",
              "\n",
              "    [theme=dark] .colab-df-convert {\n",
              "      background-color: #3B4455;\n",
              "      fill: #D2E3FC;\n",
              "    }\n",
              "\n",
              "    [theme=dark] .colab-df-convert:hover {\n",
              "      background-color: #434B5C;\n",
              "      box-shadow: 0px 1px 3px 1px rgba(0, 0, 0, 0.15);\n",
              "      filter: drop-shadow(0px 1px 2px rgba(0, 0, 0, 0.3));\n",
              "      fill: #FFFFFF;\n",
              "    }\n",
              "  </style>\n",
              "\n",
              "      <script>\n",
              "        const buttonEl =\n",
              "          document.querySelector('#df-21a4ca2c-a8e3-49f4-84c4-9d757110b8c9 button.colab-df-convert');\n",
              "        buttonEl.style.display =\n",
              "          google.colab.kernel.accessAllowed ? 'block' : 'none';\n",
              "\n",
              "        async function convertToInteractive(key) {\n",
              "          const element = document.querySelector('#df-21a4ca2c-a8e3-49f4-84c4-9d757110b8c9');\n",
              "          const dataTable =\n",
              "            await google.colab.kernel.invokeFunction('convertToInteractive',\n",
              "                                                     [key], {});\n",
              "          if (!dataTable) return;\n",
              "\n",
              "          const docLinkHtml = 'Like what you see? Visit the ' +\n",
              "            '<a target=\"_blank\" href=https://colab.research.google.com/notebooks/data_table.ipynb>data table notebook</a>'\n",
              "            + ' to learn more about interactive tables.';\n",
              "          element.innerHTML = '';\n",
              "          dataTable['output_type'] = 'display_data';\n",
              "          await google.colab.output.renderOutput(dataTable, element);\n",
              "          const docLink = document.createElement('div');\n",
              "          docLink.innerHTML = docLinkHtml;\n",
              "          element.appendChild(docLink);\n",
              "        }\n",
              "      </script>\n",
              "    </div>\n",
              "  </div>\n",
              "  "
            ]
          },
          "metadata": {},
          "execution_count": 56
        }
      ]
    },
    {
      "cell_type": "markdown",
      "source": [
        "Singer who played most number of songs in each language?"
      ],
      "metadata": {
        "id": "Mw0Qi7V4kmSh"
      }
    },
    {
      "cell_type": "code",
      "source": [
        "for lang in df['language'].unique():\n",
        "\n",
        "  df_ = df[df['language'] == lang]\n",
        "  \n",
        "  all_singer = []\n",
        "  for singers in df_['singer']:\n",
        "    all_singer += singers.split('|')\n",
        "\n",
        "  print(lang, len(df_),len(set(all_singer)))"
      ],
      "metadata": {
        "colab": {
          "base_uri": "https://localhost:8080/"
        },
        "id": "Hs4h0r5pkixK",
        "outputId": "e404db76-e25a-4caf-db7d-5391227fbf8e"
      },
      "execution_count": 57,
      "outputs": [
        {
          "output_type": "stream",
          "name": "stdout",
          "text": [
            "Urdu 3116 385\n",
            "Gujarati 2115 303\n",
            "Tamil 4677 510\n",
            "Kannada 3559 379\n",
            "Rajasthani 541 218\n",
            "Haryanvi 228 76\n",
            "Punjabi 3818 636\n",
            "Hindi 4993 515\n",
            "Old 4993 515\n",
            "Malayalam 479 72\n",
            "Marathi 4699 569\n",
            "Telugu 4996 369\n",
            "Odia 940 243\n",
            "Bhojpuri 519 109\n",
            "Assamese 724 228\n",
            "Bengali 958 192\n"
          ]
        }
      ]
    }
  ]
}